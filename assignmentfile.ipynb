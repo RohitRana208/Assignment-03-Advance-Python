{
  "nbformat": 4,
  "nbformat_minor": 0,
  "metadata": {
    "colab": {
      "provenance": [],
      "authorship_tag": "ABX9TyM2e0Y6nxe/9CAt+Wwy+ev4",
      "include_colab_link": true
    },
    "kernelspec": {
      "name": "python3",
      "display_name": "Python 3"
    },
    "language_info": {
      "name": "python"
    }
  },
  "cells": [
    {
      "cell_type": "markdown",
      "metadata": {
        "id": "view-in-github",
        "colab_type": "text"
      },
      "source": [
        "<a href=\"https://colab.research.google.com/github/RohitRana208/thapar-ss-Assignment2-Advance-python/blob/main/assignmentfile.ipynb\" target=\"_parent\"><img src=\"https://colab.research.google.com/assets/colab-badge.svg\" alt=\"Open In Colab\"/></a>"
      ]
    },
    {
      "cell_type": "markdown",
      "source": [
        "Q1. Create a file that contains 1000 lines of random strings."
      ],
      "metadata": {
        "id": "j4C1G5DCyEDL"
      }
    },
    {
      "cell_type": "code",
      "execution_count": 1,
      "metadata": {
        "id": "enJuGS-CyDae"
      },
      "outputs": [],
      "source": [
        "import random\n",
        "import string\n",
        "\n",
        "file = open(\"random1000str.txt\", \"w\")\n",
        "\n",
        "for _ in range(1000):\n",
        "    \n",
        "    size = random.randint(5, 5)\n",
        "    randomstr = ''.join(random.choice(string.ascii_letters) for _ in range(size))\n",
        "\n",
        "    file.write(randomstr + \"\\n\")\n",
        "\n",
        "\n",
        "file.close()"
      ]
    },
    {
      "cell_type": "markdown",
      "source": [
        "Q2. Create a file that contains multiple lines of random strings and file size must be 5 MB.\n"
      ],
      "metadata": {
        "id": "oS0Vut7MyhKs"
      }
    },
    {
      "cell_type": "code",
      "source": [
        "import random\n",
        "import string\n",
        "\n",
        "size_of_file = 5 * 1024 * 1024  \n",
        "\n",
        "file = open(\"random_str_5mb.txt\", \"wb\")\n",
        "\n",
        "while file.tell() < size_of_file:\n",
        "    random_string = ''.join(random.choice(string.ascii_letters) for _ in range(random.randint(5, 5)))\n",
        "    \n",
        "    file.write(random_string.encode())\n",
        "    file.write(b'\\n')\n",
        "\n",
        "file.close()\n"
      ],
      "metadata": {
        "id": "diGxQXrcym0r"
      },
      "execution_count": 3,
      "outputs": []
    },
    {
      "cell_type": "markdown",
      "source": [
        "Q3. Create 10 files that contains multiple lines of random strings and file size of each file must be 5 MB"
      ],
      "metadata": {
        "id": "E_DsPJiKzzQ0"
      }
    },
    {
      "cell_type": "code",
      "source": [
        "import random\n",
        "import string\n",
        "\n",
        "size_of_file = 5 * 1024 * 1024\n",
        "\n",
        "for file_no in range(1, 11):\n",
        "    filename = f\"random_strings_{file_no}.txt\"\n",
        "    fsize = 0\n",
        "\n",
        "    file = open(filename, \"wb\")\n",
        "\n",
        "    while fsize < size_of_file:\n",
        "        random_string = ''.join(random.choice(string.ascii_letters) for _ in range(random.randint(5, 5)))\n",
        "\n",
        "        file.write(random_string.encode())\n",
        "        file.write(b'\\n') \n",
        "\n",
        "        fsize = file.tell()\n",
        "\n",
        "    file.close()\n"
      ],
      "metadata": {
        "id": "oynFxxbx0OsV"
      },
      "execution_count": 8,
      "outputs": []
    },
    {
      "cell_type": "markdown",
      "source": [
        "Q4. Create 5 files of size 1GB, 2GB, 3GB, 4GB and 5GB; file contains multiple lines of random strings.\n"
      ],
      "metadata": {
        "id": "kTdXZJDS2rA-"
      }
    },
    {
      "cell_type": "code",
      "source": [
        "import random\n",
        "import string\n",
        "\n",
        "size = [1 * 1024 * 1024 * 1024, 2 * 1024 * 1024 * 1024,\n",
        "                     3 * 1024 * 1024 * 1024, 4 * 1024 * 1024 * 1024,\n",
        "                     5 * 1024 * 1024 * 1024] \n",
        "\n",
        "for size_index, size in enumerate(size, start=1):\n",
        "    file_size = 0\n",
        "    \n",
        "    \n",
        "    file = open(f\"random_strings_{size_index}GB.txt\", \"wb\")\n",
        "\n",
        "    \n",
        "    randomstr = ''.join(random.choice(string.ascii_letters) for _ in range(random.randint(5, 20)))\n",
        "    while file_size < size:\n",
        "\n",
        "        file.write(randomstr.encode())\n",
        "        file.write(b'\\n')\n",
        "\n",
        "        file_size = file.tell()\n",
        "\n",
        "    file.close()"
      ],
      "metadata": {
        "id": "2cb_JdlgL6-R"
      },
      "execution_count": null,
      "outputs": []
    },
    {
      "cell_type": "markdown",
      "source": [
        "Q5. Convert all the files of Q4 into upper case one by one."
      ],
      "metadata": {
        "id": "dBNSXzi2Lu4V"
      }
    },
    {
      "cell_type": "code",
      "source": [
        "import random\n",
        "import string\n",
        "\n",
        "sizes = [1 * 1024 * 1024 * 1024, 2 * 1024 * 1024 * 1024,\n",
        "         3 * 1024 * 1024 * 1024, 4 * 1024 * 1024 * 1024,\n",
        "         5 * 1024 * 1024 * 1024]\n",
        "\n",
        "for size_index, target_size in enumerate(sizes, start=1):\n",
        "    file_name = f\"random_strings_{size_index}GB.txt\"\n",
        "    file = open(file_name, \"rb\")\n",
        "\n",
        "    content = file.read()\n",
        "\n",
        "    # Convert the contents to uppercase\n",
        "    content = content.decode().upper()\n",
        "\n",
        "    file.close()\n",
        "\n",
        "    file = open(file_name, \"wb\")\n",
        "\n",
        "    file.write(content.encode())\n",
        "\n",
        "    file.close()\n"
      ],
      "metadata": {
        "id": "I_Bt1h0RLue1"
      },
      "execution_count": null,
      "outputs": []
    },
    {
      "cell_type": "markdown",
      "source": [
        "Q6. Convert all the files of Q4 into upper case parallel using multi-threading.\n"
      ],
      "metadata": {
        "id": "905ZapOlNaMS"
      }
    },
    {
      "cell_type": "code",
      "source": [],
      "metadata": {
        "id": "3Xo4GiZhZfi8"
      },
      "execution_count": null,
      "outputs": []
    },
    {
      "cell_type": "markdown",
      "source": [],
      "metadata": {
        "id": "EfPn2c6iNek8"
      }
    }
  ]
}